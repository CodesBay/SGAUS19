{
 "cells": [
  {
   "cell_type": "markdown",
   "metadata": {},
   "source": [
    "### Global Scrum Gathering Austing 2019\n",
    "\n",
    "___A DEMO of calculating Story Points with Machine Learning___"
   ]
  },
  {
   "cell_type": "markdown",
   "metadata": {},
   "source": [
    "<br/><br/><br/><br/>"
   ]
  },
  {
   "cell_type": "code",
   "execution_count": null,
   "metadata": {},
   "outputs": [],
   "source": [
    "import matplotlib.pyplot as plt\n",
    "import numpy as np\n",
    "import pandas as pd\n",
    "from sklearn.neighbors import KNeighborsClassifier"
   ]
  },
  {
   "cell_type": "markdown",
   "metadata": {},
   "source": [
    "<br/><br/>\n",
    "\n",
    "### Let's read the DATA from the CSV file\n",
    "\n",
    "<br/><br/>"
   ]
  },
  {
   "cell_type": "code",
   "execution_count": null,
   "metadata": {},
   "outputs": [],
   "source": [
    "df = pd.read_csv(\"team_sp_details.csv\")"
   ]
  },
  {
   "cell_type": "code",
   "execution_count": null,
   "metadata": {},
   "outputs": [],
   "source": [
    "df"
   ]
  },
  {
   "cell_type": "markdown",
   "metadata": {},
   "source": [
    "<br/><br/><br/>\n",
    "\n",
    "### Prepare the Data to be fed into Machine Learning Algorithm\n",
    "<br/><br/><br/>"
   ]
  },
  {
   "cell_type": "code",
   "execution_count": null,
   "metadata": {},
   "outputs": [],
   "source": [
    "features= np.zeros((19,4))"
   ]
  },
  {
   "cell_type": "code",
   "execution_count": null,
   "metadata": {},
   "outputs": [],
   "source": [
    "column_num = 0\n",
    "rows = 0\n",
    "for values in df.iloc[0:19,0:1].values:\n",
    "    features[rows][column_num] = values\n",
    "    rows += 1\n",
    "\n",
    "column_num = 1\n",
    "rows = 0\n",
    "for values in df.iloc[0:19,1:2].values:\n",
    "    features[rows][column_num] = values\n",
    "    rows += 1\n",
    "\n",
    "column_num = 2\n",
    "rows = 0\n",
    "for values in df.iloc[0:19,2:3].values:\n",
    "    if values == 'A':\n",
    "        values = 0\n",
    "    elif values == 'B':\n",
    "        values = 1\n",
    "    elif values == 'C':\n",
    "        values = 2\n",
    "    else:\n",
    "        values = -1\n",
    "    features[rows][column_num] = values\n",
    "    rows += 1\n",
    "\n",
    "\n",
    "column_num = 3\n",
    "rows = 0\n",
    "for values in df.iloc[0:19,3:4].values:\n",
    "    if values == 'Local':\n",
    "        values = 0\n",
    "    elif values == 'Remote':\n",
    "        values = 1\n",
    "    else:\n",
    "        values = -1\n",
    "    features[rows][column_num] = values\n",
    "    rows += 1\n",
    "\n",
    "\n",
    "\n",
    "    \n",
    "#features"
   ]
  },
  {
   "cell_type": "code",
   "execution_count": null,
   "metadata": {},
   "outputs": [],
   "source": [
    "test_labels = df.iloc[0:19,0:4].as_matrix()\n",
    "#test_labels"
   ]
  },
  {
   "cell_type": "code",
   "execution_count": null,
   "metadata": {},
   "outputs": [],
   "source": [
    "#features = df.iloc[0:19,0:2].values\n",
    "labels = df.iloc[0:19,4].values\n",
    "type(labels)"
   ]
  },
  {
   "cell_type": "code",
   "execution_count": null,
   "metadata": {},
   "outputs": [],
   "source": [
    "features, labels"
   ]
  },
  {
   "cell_type": "code",
   "execution_count": null,
   "metadata": {},
   "outputs": [],
   "source": [
    "labels.dtype, features.dtype"
   ]
  },
  {
   "cell_type": "markdown",
   "metadata": {},
   "source": [
    "<br/><br/><br/><br/>\n",
    "\n",
    "### Apply the data in Machine Learning Algorithm\n",
    "\n",
    "\n",
    "<br/><br/>\n",
    "\n",
    "___In here we'll be using K Nearest Neighbour M.L. Algorithm___\n",
    "\n",
    "<br/><br/>"
   ]
  },
  {
   "cell_type": "markdown",
   "metadata": {},
   "source": [
    "<br/><br/>\n",
    "\n",
    "___Train the M.L. Algorithm with the available DATA___\n",
    "<br/><br/>"
   ]
  },
  {
   "cell_type": "code",
   "execution_count": null,
   "metadata": {},
   "outputs": [],
   "source": [
    "knn = KNeighborsClassifier(n_neighbors=1)"
   ]
  },
  {
   "cell_type": "code",
   "execution_count": null,
   "metadata": {},
   "outputs": [],
   "source": [
    "knn.fit(features, labels)"
   ]
  },
  {
   "cell_type": "markdown",
   "metadata": {},
   "source": [
    "<br/><br/><br/><br/>\n",
    "\n",
    "___Now the training is done and My Machine Learning Model is READY TO MAKE PREDICTIONS___\n",
    "\n",
    "<br/><br/><br/><br/>"
   ]
  },
  {
   "cell_type": "markdown",
   "metadata": {},
   "source": [
    "___INPUT___\n",
    "\n",
    "- Team Strength\n",
    "- Leaves\n",
    "- Component\n",
    "- Local Or Remote\n",
    "\n",
    "<br/><br/><br/><br/>"
   ]
  },
  {
   "cell_type": "code",
   "execution_count": null,
   "metadata": {},
   "outputs": [],
   "source": [
    "Team_strength = 7\n",
    "Leaves = 1.5\n",
    "Component = 2\n",
    "LocalOrRemote = 1\n",
    "\n",
    "query = np.array([Team_strength, Leaves, Component, LocalOrRemote])"
   ]
  },
  {
   "cell_type": "markdown",
   "metadata": {},
   "source": [
    "<br/><br/>\n",
    "\n",
    "___Let's see what our M.L. Algorithm Predicts for the given Data___\n",
    "<br/><br/>"
   ]
  },
  {
   "cell_type": "code",
   "execution_count": null,
   "metadata": {},
   "outputs": [],
   "source": [
    "knn.predict([query])"
   ]
  },
  {
   "cell_type": "markdown",
   "metadata": {},
   "source": [
    "<br/><br/><br/><br/><br/><br/><br/><br/><br/><br/>"
   ]
  },
  {
   "cell_type": "markdown",
   "metadata": {},
   "source": [
    "<br/><br/><br/><br/><br/><br/>"
   ]
  },
  {
   "cell_type": "markdown",
   "metadata": {},
   "source": [
    "<br/><br/><br/><br/>"
   ]
  },
  {
   "cell_type": "markdown",
   "metadata": {},
   "source": [
    "### Algorithm Selection \n",
    "\n",
    "___Machine Learning is all about Data Engineering and Algorithm Selection___"
   ]
  },
  {
   "cell_type": "markdown",
   "metadata": {},
   "source": [
    "<br/><br/><br/><br/>"
   ]
  },
  {
   "cell_type": "markdown",
   "metadata": {},
   "source": [
    "___For the above data, we can use another form of Supervised Learning Model called \"Regression\"___\n",
    "\n",
    "<br/><br/>\n",
    "\n",
    "___Difference => It will provide contineous values rather than the values provided with the Training Data___\n",
    "\n",
    "<br/><br/><br/><br/>"
   ]
  },
  {
   "cell_type": "code",
   "execution_count": null,
   "metadata": {},
   "outputs": [],
   "source": [
    "from sklearn.linear_model import LinearRegression\n",
    "lr = LinearRegression()"
   ]
  },
  {
   "cell_type": "code",
   "execution_count": null,
   "metadata": {},
   "outputs": [],
   "source": [
    "lr.fit(features, labels)"
   ]
  },
  {
   "cell_type": "markdown",
   "metadata": {},
   "source": [
    "<br/><br/><br/><br/>\n",
    "\n",
    "___Let's query the same data using the new M.L. model which was trainind with same Data Set___\n",
    "\n",
    "<br/><br/><br/><br/>"
   ]
  },
  {
   "cell_type": "code",
   "execution_count": null,
   "metadata": {},
   "outputs": [],
   "source": [
    "Team_strength = 7\n",
    "Leaves = 1.5\n",
    "Component = 2\n",
    "LocalOrRemote = 1\n",
    "\n",
    "query = np.array([Team_strength, Leaves, Component, LocalOrRemote])"
   ]
  },
  {
   "cell_type": "code",
   "execution_count": null,
   "metadata": {},
   "outputs": [],
   "source": [
    "lr.predict([query])"
   ]
  },
  {
   "cell_type": "code",
   "execution_count": null,
   "metadata": {},
   "outputs": [],
   "source": []
  }
 ],
 "metadata": {
  "kernelspec": {
   "display_name": "Python 3",
   "language": "python",
   "name": "python3"
  },
  "language_info": {
   "codemirror_mode": {
    "name": "ipython",
    "version": 3
   },
   "file_extension": ".py",
   "mimetype": "text/x-python",
   "name": "python",
   "nbconvert_exporter": "python",
   "pygments_lexer": "ipython3",
   "version": "3.7.1"
  }
 },
 "nbformat": 4,
 "nbformat_minor": 2
}
